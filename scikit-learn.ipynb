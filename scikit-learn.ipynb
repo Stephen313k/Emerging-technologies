{
 "cells": [
  {
   "cell_type": "markdown",
   "id": "aafa2ac9-a5c8-489a-8cc9-04c55aa808f0",
   "metadata": {},
   "source": [
    "# Scikit-learn Notebook\n",
    "\n",
    "https://scikit-learn.org/\n",
    "\n",
    "## Support Vector Machines \n",
    "\n",
    "https://scikit-learn.org/stable/modules/svm.html\n",
    "***"
   ]
  },
  {
   "cell_type": "markdown",
   "id": "ec2aff4a-706b-419f-831b-8124b1d2b323",
   "metadata": {},
   "source": [
    "## Classification\n",
    "***\n",
    "***"
   ]
  },
  {
   "cell_type": "code",
   "execution_count": 1,
   "id": "4525a8d3-59cc-4671-b5f6-b8abf6056b6b",
   "metadata": {},
   "outputs": [],
   "source": [
    "from sklearn import svm"
   ]
  },
  {
   "cell_type": "code",
   "execution_count": 2,
   "id": "d00277ce-103c-4813-a040-4b954f98e1ad",
   "metadata": {},
   "outputs": [],
   "source": [
    "X = [[0, 0], [1, 1]]\n",
    "y = [0, 1]"
   ]
  },
  {
   "cell_type": "code",
   "execution_count": 3,
   "id": "1a94f1b0-89ba-4bcb-86a0-79f9a7dcc803",
   "metadata": {},
   "outputs": [],
   "source": [
    "clf = svm.SVC()"
   ]
  },
  {
   "cell_type": "code",
   "execution_count": 15,
   "id": "626ac33c-3689-44c6-a11d-99b1aebddd55",
   "metadata": {},
   "outputs": [
    {
     "data": {
      "text/plain": [
       "SVC()"
      ]
     },
     "execution_count": 15,
     "metadata": {},
     "output_type": "execute_result"
    }
   ],
   "source": [
    "clf.fit(X, y)\n",
    "# classifiers, SVC, NuSVC and LinearSVC take as input two arrays"
   ]
  },
  {
   "cell_type": "code",
   "execution_count": 16,
   "id": "dae49357-3ac2-4e6d-ad5a-e97e4f894384",
   "metadata": {},
   "outputs": [
    {
     "data": {
      "text/plain": [
       "array([1])"
      ]
     },
     "execution_count": 16,
     "metadata": {},
     "output_type": "execute_result"
    }
   ],
   "source": [
    "clf.predict([[2., 2.]])\n",
    "#Model chosen, and predicts values"
   ]
  },
  {
   "cell_type": "code",
   "execution_count": 22,
   "id": "d5999cbe-920b-4a2d-b4e4-c0067a46a5da",
   "metadata": {},
   "outputs": [
    {
     "data": {
      "text/plain": [
       "array([[0., 0.],\n",
       "       [1., 1.]])"
      ]
     },
     "execution_count": 22,
     "metadata": {},
     "output_type": "execute_result"
    }
   ],
   "source": [
    "#Use support vectors\n",
    "clf.support_vectors_"
   ]
  },
  {
   "cell_type": "code",
   "execution_count": 23,
   "id": "2082ee92-2b15-4e3f-bafe-c9d86aad6916",
   "metadata": {},
   "outputs": [
    {
     "data": {
      "text/plain": [
       "array([0, 1])"
      ]
     },
     "execution_count": 23,
     "metadata": {},
     "output_type": "execute_result"
    }
   ],
   "source": [
    "#Get indices of vectors\n",
    "clf.support_"
   ]
  },
  {
   "cell_type": "code",
   "execution_count": 24,
   "id": "880b54e3-a82b-4d32-b491-4712d729b8ee",
   "metadata": {},
   "outputs": [
    {
     "data": {
      "text/plain": [
       "array([1, 1])"
      ]
     },
     "execution_count": 24,
     "metadata": {},
     "output_type": "execute_result"
    }
   ],
   "source": [
    "#Get Number of support vectors\n",
    "clf.n_support_"
   ]
  },
  {
   "cell_type": "code",
   "execution_count": null,
   "id": "f4cb7c4a-3215-4af5-b03f-6a7dfe351159",
   "metadata": {},
   "outputs": [],
   "source": []
  },
  {
   "cell_type": "markdown",
   "id": "e5c3b825-0e2a-48f2-8991-f29f347240c1",
   "metadata": {},
   "source": [
    "\n",
    "#### Multi-class classification\n",
    "***"
   ]
  },
  {
   "cell_type": "code",
   "execution_count": 35,
   "id": "dbbf6e7e-b8d1-4266-9acb-e71bfa2968f4",
   "metadata": {},
   "outputs": [],
   "source": [
    "#(SVC & NuSVC) \n",
    "#decision_function_shape option allows to transform the results of the \n",
    "#“one-versus-one” classifiers to a “one-vs-rest”"
   ]
  },
  {
   "cell_type": "code",
   "execution_count": 25,
   "id": "380cb3cb-16f5-4e22-86a9-4fa7651572e0",
   "metadata": {},
   "outputs": [],
   "source": [
    "X = [[0], [1], [2], [3]]\n",
    "Y = [0, 1, 2, 3]"
   ]
  },
  {
   "cell_type": "code",
   "execution_count": 27,
   "id": "59816841-0ce8-4fc1-a444-5374c1f69619",
   "metadata": {},
   "outputs": [],
   "source": [
    "clf = svm.SVC(decision_function_shape='ovo')"
   ]
  },
  {
   "cell_type": "code",
   "execution_count": 28,
   "id": "515cab1f-9041-41ac-95e8-aa8a581fc02d",
   "metadata": {},
   "outputs": [
    {
     "data": {
      "text/plain": [
       "SVC(decision_function_shape='ovo')"
      ]
     },
     "execution_count": 28,
     "metadata": {},
     "output_type": "execute_result"
    }
   ],
   "source": [
    "clf.fit(X, Y)"
   ]
  },
  {
   "cell_type": "code",
   "execution_count": 29,
   "id": "0bf409b1-00ac-4692-b50f-cb6d28cc7cca",
   "metadata": {},
   "outputs": [],
   "source": [
    "dec = clf.decision_function([[1]])"
   ]
  },
  {
   "cell_type": "code",
   "execution_count": 31,
   "id": "3967b98e-d0ec-4f5f-a544-a35fbc22ad10",
   "metadata": {},
   "outputs": [
    {
     "data": {
      "text/plain": [
       "6"
      ]
     },
     "execution_count": 31,
     "metadata": {},
     "output_type": "execute_result"
    }
   ],
   "source": [
    "dec.shape[1]\n",
    "# 4 classes: 4*3/2 = 6"
   ]
  },
  {
   "cell_type": "code",
   "execution_count": 32,
   "id": "78b9cbc9-a5bd-4941-90fe-0ed99c5614ea",
   "metadata": {},
   "outputs": [],
   "source": [
    "clf.decision_function_shape = \"ovr\""
   ]
  },
  {
   "cell_type": "code",
   "execution_count": 33,
   "id": "98bead78-d5df-45fa-aa88-43b305a45ce4",
   "metadata": {},
   "outputs": [],
   "source": [
    "dec = clf.decision_function([[1]])"
   ]
  },
  {
   "cell_type": "code",
   "execution_count": 34,
   "id": "18248450-44eb-4beb-9e43-d2076126ecde",
   "metadata": {},
   "outputs": [
    {
     "data": {
      "text/plain": [
       "4"
      ]
     },
     "execution_count": 34,
     "metadata": {},
     "output_type": "execute_result"
    }
   ],
   "source": [
    "dec.shape[1]\n",
    "# 4 classes"
   ]
  },
  {
   "cell_type": "code",
   "execution_count": 36,
   "id": "172100a2-2b48-4dfd-b39f-c804680380c1",
   "metadata": {},
   "outputs": [],
   "source": [
    "#(LinearSVC)\n",
    "#“one-vs-the-rest” multi-class strategy, then creates n_classes models."
   ]
  },
  {
   "cell_type": "code",
   "execution_count": 37,
   "id": "d33fb3fa-a4fb-443a-88a0-3fce714cc768",
   "metadata": {},
   "outputs": [],
   "source": [
    "lin_clf = svm.LinearSVC()"
   ]
  },
  {
   "cell_type": "code",
   "execution_count": 38,
   "id": "73673c74-9b65-49bc-8537-bc255799c2a4",
   "metadata": {},
   "outputs": [
    {
     "data": {
      "text/plain": [
       "LinearSVC()"
      ]
     },
     "execution_count": 38,
     "metadata": {},
     "output_type": "execute_result"
    }
   ],
   "source": [
    "lin_clf.fit(X, Y)"
   ]
  },
  {
   "cell_type": "code",
   "execution_count": 39,
   "id": "fe2acd8c-c9dd-4c60-a0ae-8d0a9142d855",
   "metadata": {},
   "outputs": [],
   "source": [
    "dec = lin_clf.decision_function([[1]])"
   ]
  },
  {
   "cell_type": "code",
   "execution_count": 40,
   "id": "d8f7d481-f8b3-4673-b0ca-e7ca3ef5f1a8",
   "metadata": {},
   "outputs": [
    {
     "data": {
      "text/plain": [
       "4"
      ]
     },
     "execution_count": 40,
     "metadata": {},
     "output_type": "execute_result"
    }
   ],
   "source": [
    "dec.shape[1]"
   ]
  },
  {
   "cell_type": "code",
   "execution_count": null,
   "id": "4cdcd8d0-336e-405f-86f2-76f8252b5619",
   "metadata": {},
   "outputs": [],
   "source": []
  }
 ],
 "metadata": {
  "kernelspec": {
   "display_name": "Python 3",
   "language": "python",
   "name": "python3"
  },
  "language_info": {
   "codemirror_mode": {
    "name": "ipython",
    "version": 3
   },
   "file_extension": ".py",
   "mimetype": "text/x-python",
   "name": "python",
   "nbconvert_exporter": "python",
   "pygments_lexer": "ipython3",
   "version": "3.8.8"
  }
 },
 "nbformat": 4,
 "nbformat_minor": 5
}
