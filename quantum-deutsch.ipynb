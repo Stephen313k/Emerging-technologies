{
 "cells": [
  {
   "cell_type": "markdown",
   "id": "97b42cb4",
   "metadata": {},
   "source": [
    "## Quantum Computing\n",
    "\n",
    "https://qiskit.org/ [Qiskit open source development]\n",
    "\n",
    "***"
   ]
  },
  {
   "cell_type": "markdown",
   "id": "f1a65f0f",
   "metadata": {},
   "source": [
    "### Circuit Basics"
   ]
  },
  {
   "cell_type": "code",
   "execution_count": null,
   "id": "4ab5afdf",
   "metadata": {},
   "outputs": [],
   "source": [
    "# Build and run allows you to make different quantum circuits that represent the problem you are solving\n",
    "# Run allows you to run on different backends, after the data has been run data is collected and postprocessed."
   ]
  },
  {
   "cell_type": "code",
   "execution_count": 1,
   "id": "38b7c883",
   "metadata": {},
   "outputs": [],
   "source": [
    "#imports\n",
    "import numpy as np\n",
    "from qiskit import QuantumCircuit"
   ]
  },
  {
   "cell_type": "markdown",
   "id": "d3e6aaca",
   "metadata": {},
   "source": [
    "|ψ⟩=(|000⟩+|111⟩)/2–√."
   ]
  },
  {
   "cell_type": "code",
   "execution_count": 2,
   "id": "fe118305",
   "metadata": {},
   "outputs": [],
   "source": [
    "#build the circuit\n",
    "# Create a Quantum Circuit acting on a quantum register of three qubits\n",
    "circ = QuantumCircuit(3)"
   ]
  },
  {
   "cell_type": "code",
   "execution_count": 3,
   "id": "53ffb404",
   "metadata": {},
   "outputs": [
    {
     "data": {
      "text/plain": [
       "<qiskit.circuit.instructionset.InstructionSet at 0x2098f51a540>"
      ]
     },
     "execution_count": 3,
     "metadata": {},
     "output_type": "execute_result"
    }
   ],
   "source": [
    "#create the gate\n",
    "# Add a H gate on qubit 0, putting this qubit in superposition.\n",
    "circ.h(0)"
   ]
  },
  {
   "cell_type": "code",
   "execution_count": 4,
   "id": "ef4a6ed6",
   "metadata": {},
   "outputs": [
    {
     "data": {
      "text/plain": [
       "<qiskit.circuit.instructionset.InstructionSet at 0x20993a06d00>"
      ]
     },
     "execution_count": 4,
     "metadata": {},
     "output_type": "execute_result"
    }
   ],
   "source": [
    "# Add a CX (CNOT) gate on control qubit 0 and target qubit 1, putting\n",
    "# the qubits in a Bell state.\n",
    "circ.cx(0, 1)"
   ]
  },
  {
   "cell_type": "code",
   "execution_count": 5,
   "id": "515eaca6",
   "metadata": {},
   "outputs": [
    {
     "data": {
      "text/plain": [
       "<qiskit.circuit.instructionset.InstructionSet at 0x20993a0b980>"
      ]
     },
     "execution_count": 5,
     "metadata": {},
     "output_type": "execute_result"
    }
   ],
   "source": [
    "# Add a CX (CNOT) gate on control qubit 0 and target qubit 2, putting\n",
    "# the qubits in a GHZ state.\n",
    "circ.cx(0, 2)"
   ]
  },
  {
   "cell_type": "code",
   "execution_count": 6,
   "id": "f079a3a2",
   "metadata": {},
   "outputs": [
    {
     "data": {
      "image/png": "[encoded data removed]",
      "text/plain": [
       "<Figure size 267.197x204.68 with 1 Axes>"
      ]
     },
     "execution_count": 6,
     "metadata": {},
     "output_type": "execute_result"
    }
   ],
   "source": [
    "#visualize the circuit with .draw()\n",
    "circ.draw('mpl')"
   ]
  },
  {
   "cell_type": "markdown",
   "id": "29ef6146",
   "metadata": {},
   "source": [
    "##### Simulating circuits\n",
    "To simulate a circuit we use the quant_info module in Qiskit\n",
    "This simulator returns the quantum state"
   ]
  },
  {
   "cell_type": "code",
   "execution_count": null,
   "id": "00854042",
   "metadata": {},
   "outputs": [],
   "source": [
    "from qiskit.quantum_info import Statevector"
   ]
  },
  {
   "cell_type": "code",
   "execution_count": null,
   "id": "a57e88c0",
   "metadata": {},
   "outputs": [],
   "source": [
    "# Set the intial state of the simulator to the ground state using from_int\n",
    "state = Statevector.from_int(0, 2**3)"
   ]
  },
  {
   "cell_type": "code",
   "execution_count": 9,
   "id": "bc0f0a91",
   "metadata": {},
   "outputs": [],
   "source": [
    "# Evolve the state by the quantum circuit\n",
    "state = state.evolve(circ)"
   ]
  },
  {
   "cell_type": "code",
   "execution_count": 10,
   "id": "21bdeaaf",
   "metadata": {},
   "outputs": [
    {
     "data": {
      "text/latex": [
       "$$\\frac{\\sqrt{2}}{2} |000\\rangle+\\frac{\\sqrt{2}}{2} |111\\rangle$$"
      ],
      "text/plain": [
       "<IPython.core.display.Latex object>"
      ]
     },
     "execution_count": 10,
     "metadata": {},
     "output_type": "execute_result"
    }
   ],
   "source": [
    "#draw using latex\n",
    "state.draw('latex')"
   ]
  },
  {
   "cell_type": "code",
   "execution_count": 11,
   "id": "12289295",
   "metadata": {},
   "outputs": [],
   "source": [
    "from qiskit.visualization import array_to_latex"
   ]
  },
  {
   "cell_type": "code",
   "execution_count": 12,
   "id": "68d6985b",
   "metadata": {},
   "outputs": [
    {
     "data": {
      "text/latex": [
       "$$\n",
       "\n",
       "\\begin{bmatrix}\n",
       "\\tfrac{1}{\\sqrt{2}} & 0 & 0 & 0 & 0 & 0 & 0 & \\tfrac{1}{\\sqrt{2}}  \\\\\n",
       " \\end{bmatrix}\n",
       "$$"
      ],
      "text/plain": [
       "<IPython.core.display.Latex object>"
      ]
     },
     "execution_count": 12,
     "metadata": {},
     "output_type": "execute_result"
    }
   ],
   "source": [
    "array_to_latex(state)"
   ]
  },
  {
   "cell_type": "code",
   "execution_count": 20,
   "id": "27a3d031",
   "metadata": {},
   "outputs": [
    {
     "data": {
      "image/png": "[encoded data removed]",
      "text/plain": [
       "<Figure size 576x360 with 2 Axes>"
      ]
     },
     "execution_count": 20,
     "metadata": {},
     "output_type": "execute_result"
    }
   ],
   "source": [
    "#toolbox for visulaisation\n",
    "state.draw('hinton')\n"
   ]
  },
  {
   "cell_type": "markdown",
   "id": "f03942e5",
   "metadata": {},
   "source": [
    "Quant_info module has an operatator method and can for example calculate the 2n×2n matrix representing the quantum circuit."
   ]
  },
  {
   "cell_type": "code",
   "execution_count": 22,
   "id": "e7d67a19",
   "metadata": {},
   "outputs": [],
   "source": [
    "from qiskit.quantum_info import Operator"
   ]
  },
  {
   "cell_type": "code",
   "execution_count": 24,
   "id": "2bfc474a",
   "metadata": {},
   "outputs": [],
   "source": [
    "U = Operator(circ)"
   ]
  },
  {
   "cell_type": "code",
   "execution_count": 25,
   "id": "921a4468",
   "metadata": {},
   "outputs": [
    {
     "data": {
      "text/plain": [
       "array([[ 0.70710678+0.j,  0.70710678+0.j,  0.        +0.j,\n",
       "         0.        +0.j,  0.        +0.j,  0.        +0.j,\n",
       "         0.        +0.j,  0.        +0.j],\n",
       "       [ 0.        +0.j,  0.        +0.j,  0.        +0.j,\n",
       "         0.        +0.j,  0.        +0.j,  0.        +0.j,\n",
       "         0.70710678+0.j, -0.70710678+0.j],\n",
       "       [ 0.        +0.j,  0.        +0.j,  0.70710678+0.j,\n",
       "         0.70710678+0.j,  0.        +0.j,  0.        +0.j,\n",
       "         0.        +0.j,  0.        +0.j],\n",
       "       [ 0.        +0.j,  0.        +0.j,  0.        +0.j,\n",
       "         0.        +0.j,  0.70710678+0.j, -0.70710678+0.j,\n",
       "         0.        +0.j,  0.        +0.j],\n",
       "       [ 0.        +0.j,  0.        +0.j,  0.        +0.j,\n",
       "         0.        +0.j,  0.70710678+0.j,  0.70710678+0.j,\n",
       "         0.        +0.j,  0.        +0.j],\n",
       "       [ 0.        +0.j,  0.        +0.j,  0.70710678+0.j,\n",
       "        -0.70710678+0.j,  0.        +0.j,  0.        +0.j,\n",
       "         0.        +0.j,  0.        +0.j],\n",
       "       [ 0.        +0.j,  0.        +0.j,  0.        +0.j,\n",
       "         0.        +0.j,  0.        +0.j,  0.        +0.j,\n",
       "         0.70710678+0.j,  0.70710678+0.j],\n",
       "       [ 0.70710678+0.j, -0.70710678+0.j,  0.        +0.j,\n",
       "         0.        +0.j,  0.        +0.j,  0.        +0.j,\n",
       "         0.        +0.j,  0.        +0.j]])"
      ]
     },
     "execution_count": 25,
     "metadata": {},
     "output_type": "execute_result"
    }
   ],
   "source": [
    "U.data\n"
   ]
  },
  {
   "cell_type": "markdown",
   "id": "5b06085e",
   "metadata": {},
   "source": [
    "#### OpenQASM backend\n",
    "These are useful to provide information about the state ouput by the ideal circuit the matrix represents"
   ]
  },
  {
   "cell_type": "markdown",
   "id": "ba8478ca",
   "metadata": {},
   "source": [
    "To simulate a circuit for measurement we add measuremenat to the above circuit#################pics"
   ]
  },
  {
   "cell_type": "code",
   "execution_count": 29,
   "id": "34361356",
   "metadata": {},
   "outputs": [
    {
     "data": {
      "text/plain": [
       "<qiskit.circuit.instructionset.InstructionSet at 0x2099b3cd140>"
      ]
     },
     "execution_count": 29,
     "metadata": {},
     "output_type": "execute_result"
    }
   ],
   "source": [
    "# Create a Quantum Circuit\n",
    "meas = QuantumCircuit(3, 3)\n",
    "meas.barrier(range(3))"
   ]
  },
  {
   "cell_type": "code",
   "execution_count": 30,
   "id": "0fa30582",
   "metadata": {},
   "outputs": [
    {
     "data": {
      "text/plain": [
       "<qiskit.circuit.instructionset.InstructionSet at 0x2099b3c6800>"
      ]
     },
     "execution_count": 30,
     "metadata": {},
     "output_type": "execute_result"
    }
   ],
   "source": [
    "# map the quantum measurement to the classical bits\n",
    "meas.measure(range(3), range(3))"
   ]
  },
  {
   "cell_type": "code",
   "execution_count": 31,
   "id": "cc7d814e",
   "metadata": {},
   "outputs": [],
   "source": [
    "# The Qiskit circuit object supports composition.\n",
    "# Here the meas has to be first and front=True (putting it before)\n",
    "# as compose must put a smaller circuit into a larger one.\n",
    "qc = meas.compose(circ, range(3), front=True)"
   ]
  },
  {
   "cell_type": "code",
   "execution_count": 32,
   "id": "28c103b3",
   "metadata": {},
   "outputs": [
    {
     "data": {
      "image/png": "[encoded data removed]",
      "text/plain": [
       "<Figure size 507.997x264.88 with 1 Axes>"
      ]
     },
     "execution_count": 32,
     "metadata": {},
     "output_type": "execute_result"
    }
   ],
   "source": [
    "#drawing the circuit\n",
    "qc.draw('mpl')"
   ]
  },
  {
   "cell_type": "markdown",
   "id": "5d7e457d",
   "metadata": {},
   "source": [
    "Pr(xyz)=|⟨xyz|ψ⟩|2"
   ]
  },
  {
   "cell_type": "markdown",
   "id": "ac3f0e10",
   "metadata": {},
   "source": [
    "To simulate the circuit wasm_simulator is used. The circuit is needed to be repeated many times\n",
    "The number of times the circuit is repeated is specified in the execute function using 'shots' keyword"
   ]
  },
  {
   "cell_type": "code",
   "execution_count": 33,
   "id": "35ba5ef7",
   "metadata": {},
   "outputs": [],
   "source": [
    "# Adding the transpiler to reduce the circuit to QASM instructions\n",
    "# supported by the backend\n",
    "from qiskit import transpile"
   ]
  },
  {
   "cell_type": "code",
   "execution_count": 34,
   "id": "31f9d88f",
   "metadata": {},
   "outputs": [],
   "source": [
    "# Use Aer's qasm_simulator\n",
    "from qiskit.providers.aer import QasmSimulator"
   ]
  },
  {
   "cell_type": "code",
   "execution_count": 35,
   "id": "353a222d",
   "metadata": {},
   "outputs": [],
   "source": [
    "backend = QasmSimulator()"
   ]
  },
  {
   "cell_type": "code",
   "execution_count": 36,
   "id": "8cf81996",
   "metadata": {},
   "outputs": [],
   "source": [
    "# First we have to transpile the quantum circuit\n",
    "# to the low-level QASM instructions used by the\n",
    "# backend\n",
    "qc_compiled = transpile(qc, backend)"
   ]
  },
  {
   "cell_type": "code",
   "execution_count": 37,
   "id": "8ec25ff0",
   "metadata": {},
   "outputs": [],
   "source": [
    "# Execute the circuit on the qasm simulator.\n",
    "# We've set the number of repeats of the circuit\n",
    "# to be 1024, which is the default.\n",
    "job_sim = backend.run(qc_compiled, shots=1024)"
   ]
  },
  {
   "cell_type": "code",
   "execution_count": 38,
   "id": "392b211e",
   "metadata": {},
   "outputs": [],
   "source": [
    "# Grab the results from the job.\n",
    "result_sim = job_sim.result()"
   ]
  },
  {
   "cell_type": "markdown",
   "id": "7e2e8e03",
   "metadata": {},
   "source": [
    "When we have recieved our result object we can access the counts using the function get_counts(circuit)"
   ]
  },
  {
   "cell_type": "code",
   "execution_count": 39,
   "id": "20eafa20",
   "metadata": {},
   "outputs": [
    {
     "name": "stdout",
     "output_type": "stream",
     "text": [
      "{'000': 517, '111': 507}\n"
     ]
    }
   ],
   "source": [
    "counts = result_sim.get_counts(qc_compiled)\n",
    "print(counts)"
   ]
  },
  {
   "cell_type": "code",
   "execution_count": 40,
   "id": "3500e675",
   "metadata": {},
   "outputs": [
    {
     "data": {
      "image/png": "[encoded data removed]",
      "text/plain": [
       "<Figure size 504x360 with 1 Axes>"
      ]
     },
     "execution_count": 40,
     "metadata": {},
     "output_type": "execute_result"
    }
   ],
   "source": [
    "#Qiskit allows you to view / plot\n",
    "from qiskit.visualization import plot_histogram\n",
    "plot_histogram(counts)"
   ]
  },
  {
   "cell_type": "markdown",
   "id": "0bfe2674",
   "metadata": {},
   "source": [
    "The estimated probabilities Pr(000) and Pr(111) are computed by taking aggregate counts and dividing \n",
    "by the numbers of shits. Below I will change the shots keywords to see if estimated probablities change"
   ]
  },
  {
   "cell_type": "code",
   "execution_count": 41,
   "id": "630ec3b9",
   "metadata": {},
   "outputs": [
    {
     "name": "stdout",
     "output_type": "stream",
     "text": [
      "{'111': 1015, '000': 1029}\n"
     ]
    },
    {
     "data": {
      "image/png": "[encoded data removed]",
      "text/plain": [
       "<Figure size 504x360 with 1 Axes>"
      ]
     },
     "execution_count": 41,
     "metadata": {},
     "output_type": "execute_result"
    }
   ],
   "source": [
    "job_sim = backend.run(qc_compiled, shots=2044)\n",
    "result_sim = job_sim.result()\n",
    "counts = result_sim.get_counts(qc_compiled)\n",
    "print(counts)\n",
    "from qiskit.visualization import plot_histogram\n",
    "plot_histogram(counts)"
   ]
  },
  {
   "cell_type": "markdown",
   "id": "e5d31b6f",
   "metadata": {},
   "source": [
    "By changing the shot value the estimation has also changed"
   ]
  },
  {
   "cell_type": "markdown",
   "id": "93868a4b",
   "metadata": {},
   "source": [
    "### Summary of Quantum Operations"
   ]
  },
  {
   "cell_type": "markdown",
   "id": "b0ebc5e4",
   "metadata": {},
   "source": [
    "Single-qubit quantum gates\n",
    "\n",
    "Multi-qubit quantum gates\n",
    "\n",
    "Measurements"
   ]
  },
  {
   "cell_type": "code",
   "execution_count": 1,
   "id": "0508de4c",
   "metadata": {},
   "outputs": [],
   "source": [
    "import matplotlib.pyplot as plt\n",
    "import numpy as np\n",
    "from math import pi"
   ]
  },
  {
   "cell_type": "code",
   "execution_count": 2,
   "id": "66816096",
   "metadata": {},
   "outputs": [],
   "source": [
    "from qiskit import QuantumCircuit, ClassicalRegister, QuantumRegister, transpile\n",
    "from qiskit.tools.visualization import circuit_drawer\n",
    "from qiskit.quantum_info import state_fidelity\n",
    "from qiskit import BasicAer\n",
    "\n",
    "backend = BasicAer.get_backend('unitary_simulator')"
   ]
  },
  {
   "cell_type": "markdown",
   "id": "66935117",
   "metadata": {},
   "source": [
    "The single-qubit gates available are: - u gates - Identity gate - Pauli gates - Clifford gates - C3 gates - Standard rotation gates"
   ]
  },
  {
   "cell_type": "code",
   "execution_count": 3,
   "id": "b1e0cc8d",
   "metadata": {},
   "outputs": [],
   "source": [
    "#Single - Qubit Gates\n",
    "q = QuantumRegister(1)"
   ]
  },
  {
   "cell_type": "code",
   "execution_count": 4,
   "id": "94b3f913",
   "metadata": {},
   "outputs": [],
   "source": [
    "#Access to u3 gate\n",
    "#u3(θ,ϕ,λ)=U(θ,ϕ,λ)\n",
    "qc = QuantumCircuit(q)"
   ]
  },
  {
   "cell_type": "code",
   "execution_count": 5,
   "id": "ed02a618",
   "metadata": {},
   "outputs": [
    {
     "data": {
      "text/html": [
       "<pre style=\"word-wrap: normal;white-space: pre;background: #fff0;line-height: 1.1;font-family: &quot;Courier New&quot;,Courier,monospace\">    ┌────────────────┐\n",
       "q0: ┤ U(π/2,π/2,π/2) ├\n",
       "    └────────────────┘</pre>"
      ],
      "text/plain": [
       "    ┌────────────────┐\n",
       "q0: ┤ U(π/2,π/2,π/2) ├\n",
       "    └────────────────┘"
      ]
     },
     "execution_count": 5,
     "metadata": {},
     "output_type": "execute_result"
    }
   ],
   "source": [
    "qc.u(pi/2,pi/2,pi/2,q)\n",
    "qc.draw()"
   ]
  },
  {
   "cell_type": "code",
   "execution_count": 6,
   "id": "20cf758a",
   "metadata": {},
   "outputs": [
    {
     "data": {
      "text/plain": [
       "array([[ 0.707+0.j   , -0.   -0.707j],\n",
       "       [ 0.   +0.707j, -0.707+0.j   ]])"
      ]
     },
     "execution_count": 6,
     "metadata": {},
     "output_type": "execute_result"
    }
   ],
   "source": [
    "job = backend.run(transpile(qc, backend))\n",
    "job.result().get_unitary(qc, decimals=3)"
   ]
  },
  {
   "cell_type": "code",
   "execution_count": 7,
   "id": "6cf74a95",
   "metadata": {},
   "outputs": [],
   "source": [
    "#The u2(ϕ,λ)=u3(π/2,ϕ,λ) gate \n",
    "# This gate is useful to create superpositions.\n",
    "qc = QuantumCircuit(q)"
   ]
  },
  {
   "cell_type": "code",
   "execution_count": 8,
   "id": "6621ae0b",
   "metadata": {},
   "outputs": [
    {
     "name": "stderr",
     "output_type": "stream",
     "text": [
      "<ipython-input-8-49a9a385cfbd>:1: DeprecationWarning: The QuantumCircuit.u2 method is deprecated as of 0.16.0. It will be removed no earlier than 3 months after the release date. You can use the general 1-qubit gate QuantumCircuit.u instead: u2(φ,λ) = u(π/2, φ, λ). Alternatively, you can decompose it interms of QuantumCircuit.p and QuantumCircuit.sx: u2(φ,λ) = p(π/2+φ) sx p(λ-π/2) (1 pulse on hardware).\n",
      "  qc.u2(pi/2,pi/2,q)\n"
     ]
    },
    {
     "data": {
      "text/html": [
       "<pre style=\"word-wrap: normal;white-space: pre;background: #fff0;line-height: 1.1;font-family: &quot;Courier New&quot;,Courier,monospace\">    ┌─────────────┐\n",
       "q0: ┤ U2(π/2,π/2) ├\n",
       "    └─────────────┘</pre>"
      ],
      "text/plain": [
       "    ┌─────────────┐\n",
       "q0: ┤ U2(π/2,π/2) ├\n",
       "    └─────────────┘"
      ]
     },
     "execution_count": 8,
     "metadata": {},
     "output_type": "execute_result"
    }
   ],
   "source": [
    "qc.u2(pi/2,pi/2,q)\n",
    "qc.draw()"
   ]
  },
  {
   "cell_type": "code",
   "execution_count": 10,
   "id": "93ae15dc",
   "metadata": {},
   "outputs": [
    {
     "data": {
      "text/plain": [
       "array([[ 0.707+0.j   , -0.   -0.707j],\n",
       "       [ 0.   +0.707j, -0.707+0.j   ]])"
      ]
     },
     "execution_count": 10,
     "metadata": {},
     "output_type": "execute_result"
    }
   ],
   "source": [
    "job = backend.run(transpile(qc, backend))\n",
    "job.result().get_unitary(qc, decimals=3)"
   ]
  },
  {
   "cell_type": "code",
   "execution_count": 11,
   "id": "50a900c5",
   "metadata": {},
   "outputs": [
    {
     "data": {
      "text/html": [
       "<pre style=\"word-wrap: normal;white-space: pre;background: #fff0;line-height: 1.1;font-family: &quot;Courier New&quot;,Courier,monospace\">    ┌────────┐\n",
       "q0: ┤ P(π/2) ├\n",
       "    └────────┘</pre>"
      ],
      "text/plain": [
       "    ┌────────┐\n",
       "q0: ┤ P(π/2) ├\n",
       "    └────────┘"
      ]
     },
     "execution_count": 11,
     "metadata": {},
     "output_type": "execute_result"
    }
   ],
   "source": [
    "#The p(λ)=u(0,0,λ) gate, allows us to apply a quantum phase.\n",
    "qc = QuantumCircuit(q)\n",
    "qc.p(pi/2,q)\n",
    "qc.draw()"
   ]
  },
  {
   "cell_type": "code",
   "execution_count": 12,
   "id": "9538a663",
   "metadata": {},
   "outputs": [
    {
     "data": {
      "text/plain": [
       "array([[1.+0.j, 0.+0.j],\n",
       "       [0.+0.j, 0.+1.j]])"
      ]
     },
     "execution_count": 12,
     "metadata": {},
     "output_type": "execute_result"
    }
   ],
   "source": [
    "job = backend.run(transpile(qc, backend))\n",
    "job.result().get_unitary(qc, decimals=3)"
   ]
  },
  {
   "cell_type": "markdown",
   "id": "f65b1c0e",
   "metadata": {},
   "source": [
    "#### Two-qubit gates"
   ]
  },
  {
   "cell_type": "markdown",
   "id": "638c0eb4",
   "metadata": {},
   "source": [
    "In general, a controlled two-qubit gate CU acts to apply the single-qubit unitary U to the second qubit when the state of the first qubit is in "
   ]
  },
  {
   "cell_type": "code",
   "execution_count": 13,
   "id": "33e53561",
   "metadata": {},
   "outputs": [],
   "source": [
    "q = QuantumRegister(2)"
   ]
  },
  {
   "cell_type": "code",
   "execution_count": 14,
   "id": "7113f8b7",
   "metadata": {},
   "outputs": [
    {
     "data": {
      "text/html": [
       "<pre style=\"word-wrap: normal;white-space: pre;background: #fff0;line-height: 1.1;font-family: &quot;Courier New&quot;,Courier,monospace\">            \n",
       "q21_0: ──■──\n",
       "       ┌─┴─┐\n",
       "q21_1: ┤ X ├\n",
       "       └───┘</pre>"
      ],
      "text/plain": [
       "            \n",
       "q21_0: ──■──\n",
       "       ┌─┴─┐\n",
       "q21_1: ┤ X ├\n",
       "       └───┘"
      ]
     },
     "execution_count": 14,
     "metadata": {},
     "output_type": "execute_result"
    }
   ],
   "source": [
    "qc = QuantumCircuit(q)\n",
    "qc.cx(q[0],q[1])\n",
    "qc.draw()"
   ]
  },
  {
   "cell_type": "markdown",
   "id": "217e8251",
   "metadata": {},
   "source": [
    "###### Controlled Pauli Gates"
   ]
  },
  {
   "cell_type": "code",
   "execution_count": 16,
   "id": "1c10430f",
   "metadata": {},
   "outputs": [
    {
     "data": {
      "text/html": [
       "<pre style=\"word-wrap: normal;white-space: pre;background: #fff0;line-height: 1.1;font-family: &quot;Courier New&quot;,Courier,monospace\">            \n",
       "q21_0: ──■──\n",
       "       ┌─┴─┐\n",
       "q21_1: ┤ X ├\n",
       "       └───┘</pre>"
      ],
      "text/plain": [
       "            \n",
       "q21_0: ──■──\n",
       "       ┌─┴─┐\n",
       "q21_1: ┤ X ├\n",
       "       └───┘"
      ]
     },
     "execution_count": 16,
     "metadata": {},
     "output_type": "execute_result"
    }
   ],
   "source": [
    "#Controlled-X (or, controlled-NOT) gate\n",
    "qc = QuantumCircuit(q)\n",
    "qc.cx(q[0],q[1])\n",
    "qc.draw()"
   ]
  },
  {
   "cell_type": "code",
   "execution_count": 17,
   "id": "b046e66a",
   "metadata": {},
   "outputs": [
    {
     "data": {
      "text/plain": [
       "array([[1.+0.j, 0.+0.j, 0.+0.j, 0.+0.j],\n",
       "       [0.+0.j, 0.+0.j, 0.+0.j, 1.+0.j],\n",
       "       [0.+0.j, 0.+0.j, 1.+0.j, 0.+0.j],\n",
       "       [0.+0.j, 1.+0.j, 0.+0.j, 0.+0.j]])"
      ]
     },
     "execution_count": 17,
     "metadata": {},
     "output_type": "execute_result"
    }
   ],
   "source": [
    "job = backend.run(transpile(qc, backend))\n",
    "job.result().get_unitary(qc, decimals=3)"
   ]
  },
  {
   "cell_type": "code",
   "execution_count": 18,
   "id": "85bbe2b2",
   "metadata": {},
   "outputs": [
    {
     "data": {
      "text/html": [
       "<pre style=\"word-wrap: normal;white-space: pre;background: #fff0;line-height: 1.1;font-family: &quot;Courier New&quot;,Courier,monospace\">            \n",
       "q21_0: ──■──\n",
       "       ┌─┴─┐\n",
       "q21_1: ┤ Y ├\n",
       "       └───┘</pre>"
      ],
      "text/plain": [
       "            \n",
       "q21_0: ──■──\n",
       "       ┌─┴─┐\n",
       "q21_1: ┤ Y ├\n",
       "       └───┘"
      ]
     },
     "execution_count": 18,
     "metadata": {},
     "output_type": "execute_result"
    }
   ],
   "source": [
    "#Controlled Y gate\n",
    "qc = QuantumCircuit(q)\n",
    "qc.cy(q[0],q[1])\n",
    "qc.draw()"
   ]
  },
  {
   "cell_type": "code",
   "execution_count": 19,
   "id": "af949017",
   "metadata": {},
   "outputs": [
    {
     "data": {
      "text/plain": [
       "array([[1.+0.j, 0.+0.j, 0.+0.j, 0.+0.j],\n",
       "       [0.+0.j, 0.+0.j, 0.+0.j, 0.-1.j],\n",
       "       [0.+0.j, 0.+0.j, 1.+0.j, 0.+0.j],\n",
       "       [0.+0.j, 0.+1.j, 0.+0.j, 0.+0.j]])"
      ]
     },
     "execution_count": 19,
     "metadata": {},
     "output_type": "execute_result"
    }
   ],
   "source": [
    "job = backend.run(transpile(qc, backend))\n",
    "job.result().get_unitary(qc, decimals=3)"
   ]
  },
  {
   "cell_type": "code",
   "execution_count": 20,
   "id": "b48d340f",
   "metadata": {},
   "outputs": [
    {
     "data": {
      "text/html": [
       "<pre style=\"word-wrap: normal;white-space: pre;background: #fff0;line-height: 1.1;font-family: &quot;Courier New&quot;,Courier,monospace\">          \n",
       "q21_0: ─■─\n",
       "        │ \n",
       "q21_1: ─■─\n",
       "          </pre>"
      ],
      "text/plain": [
       "          \n",
       "q21_0: ─■─\n",
       "        │ \n",
       "q21_1: ─■─\n",
       "          "
      ]
     },
     "execution_count": 20,
     "metadata": {},
     "output_type": "execute_result"
    }
   ],
   "source": [
    "#Controlled Z (or, controlled Phase) gate\n",
    "qc = QuantumCircuit(q)\n",
    "qc.cz(q[0],q[1])\n",
    "qc.draw()"
   ]
  },
  {
   "cell_type": "code",
   "execution_count": 21,
   "id": "7cd4ed27",
   "metadata": {},
   "outputs": [
    {
     "data": {
      "text/plain": [
       "array([[ 1.-0.j,  0.+0.j,  0.+0.j,  0.+0.j],\n",
       "       [ 0.+0.j,  1.-0.j,  0.+0.j,  0.+0.j],\n",
       "       [ 0.+0.j,  0.+0.j,  1.-0.j,  0.+0.j],\n",
       "       [ 0.+0.j,  0.+0.j,  0.+0.j, -1.+0.j]])"
      ]
     },
     "execution_count": 21,
     "metadata": {},
     "output_type": "execute_result"
    }
   ],
   "source": [
    "job = backend.run(transpile(qc, backend))\n",
    "job.result().get_unitary(qc, decimals=3)"
   ]
  },
  {
   "cell_type": "code",
   "execution_count": 22,
   "id": "79ccee62",
   "metadata": {},
   "outputs": [
    {
     "data": {
      "text/html": [
       "<pre style=\"word-wrap: normal;white-space: pre;background: #fff0;line-height: 1.1;font-family: &quot;Courier New&quot;,Courier,monospace\">            \n",
       "q21_0: ──■──\n",
       "       ┌─┴─┐\n",
       "q21_1: ┤ H ├\n",
       "       └───┘</pre>"
      ],
      "text/plain": [
       "            \n",
       "q21_0: ──■──\n",
       "       ┌─┴─┐\n",
       "q21_1: ┤ H ├\n",
       "       └───┘"
      ]
     },
     "execution_count": 22,
     "metadata": {},
     "output_type": "execute_result"
    }
   ],
   "source": [
    "#Controlled Hadamard gate\n",
    "#Controlled rotation gates\n",
    "qc = QuantumCircuit(q)\n",
    "qc.ch(q[0],q[1])\n",
    "qc.draw()"
   ]
  },
  {
   "cell_type": "code",
   "execution_count": 23,
   "id": "6def0eae",
   "metadata": {},
   "outputs": [
    {
     "data": {
      "text/plain": [
       "array([[ 1.   +0.j,  0.   +0.j,  0.   +0.j,  0.   +0.j],\n",
       "       [ 0.   +0.j,  0.707+0.j,  0.   +0.j,  0.707-0.j],\n",
       "       [ 0.   +0.j,  0.   +0.j,  1.   -0.j,  0.   +0.j],\n",
       "       [ 0.   +0.j,  0.707+0.j,  0.   +0.j, -0.707+0.j]])"
      ]
     },
     "execution_count": 23,
     "metadata": {},
     "output_type": "execute_result"
    }
   ],
   "source": [
    "job = backend.run(transpile(qc, backend))\n",
    "job.result().get_unitary(qc, decimals=3)"
   ]
  },
  {
   "cell_type": "code",
   "execution_count": 24,
   "id": "160c9986",
   "metadata": {},
   "outputs": [],
   "source": [
    "#Controlled rotation gates\n",
    "#Controlled rotation around Z-axis\n",
    "qc = QuantumCircuit(q)"
   ]
  },
  {
   "cell_type": "code",
   "execution_count": 25,
   "id": "a3732991",
   "metadata": {},
   "outputs": [
    {
     "data": {
      "text/html": [
       "<pre style=\"word-wrap: normal;white-space: pre;background: #fff0;line-height: 1.1;font-family: &quot;Courier New&quot;,Courier,monospace\">                  \n",
       "q21_0: ─────■─────\n",
       "       ┌────┴────┐\n",
       "q21_1: ┤ Rz(π/2) ├\n",
       "       └─────────┘</pre>"
      ],
      "text/plain": [
       "                  \n",
       "q21_0: ─────■─────\n",
       "       ┌────┴────┐\n",
       "q21_1: ┤ Rz(π/2) ├\n",
       "       └─────────┘"
      ]
     },
     "execution_count": 25,
     "metadata": {},
     "output_type": "execute_result"
    }
   ],
   "source": [
    "qc.crz(pi/2,q[0],q[1])\n",
    "qc.draw()"
   ]
  },
  {
   "cell_type": "code",
   "execution_count": 26,
   "id": "a75c7782",
   "metadata": {},
   "outputs": [
    {
     "data": {
      "text/plain": [
       "array([[1.   +0.j   , 0.   +0.j   , 0.   +0.j   , 0.   +0.j   ],\n",
       "       [0.   +0.j   , 0.707-0.707j, 0.   +0.j   , 0.   +0.j   ],\n",
       "       [0.   +0.j   , 0.   +0.j   , 1.   +0.j   , 0.   +0.j   ],\n",
       "       [0.   +0.j   , 0.   +0.j   , 0.   +0.j   , 0.707+0.707j]])"
      ]
     },
     "execution_count": 26,
     "metadata": {},
     "output_type": "execute_result"
    }
   ],
   "source": [
    "job = backend.run(transpile(qc, backend))\n",
    "job.result().get_unitary(qc, decimals=3)"
   ]
  },
  {
   "cell_type": "markdown",
   "id": "c716f53e",
   "metadata": {},
   "source": [
    "##### Three-qubit gates"
   ]
  },
  {
   "cell_type": "code",
   "execution_count": 27,
   "id": "b8aa2131",
   "metadata": {},
   "outputs": [],
   "source": [
    "#Toffoli gate (ccx gate)\n",
    "#The Toffoli gate flips the third qubit if the first two qubits (LSB) are both |1⟩:\n",
    "q = QuantumRegister(3)"
   ]
  },
  {
   "cell_type": "code",
   "execution_count": 28,
   "id": "67b06e10",
   "metadata": {},
   "outputs": [
    {
     "data": {
      "text/html": [
       "<pre style=\"word-wrap: normal;white-space: pre;background: #fff0;line-height: 1.1;font-family: &quot;Courier New&quot;,Courier,monospace\">            \n",
       "q57_0: ──■──\n",
       "         │  \n",
       "q57_1: ──■──\n",
       "       ┌─┴─┐\n",
       "q57_2: ┤ X ├\n",
       "       └───┘</pre>"
      ],
      "text/plain": [
       "            \n",
       "q57_0: ──■──\n",
       "         │  \n",
       "q57_1: ──■──\n",
       "       ┌─┴─┐\n",
       "q57_2: ┤ X ├\n",
       "       └───┘"
      ]
     },
     "execution_count": 28,
     "metadata": {},
     "output_type": "execute_result"
    }
   ],
   "source": [
    "qc = QuantumCircuit(q)\n",
    "qc.ccx(q[0], q[1], q[2])\n",
    "qc.draw()"
   ]
  },
  {
   "cell_type": "code",
   "execution_count": 29,
   "id": "805ac709",
   "metadata": {},
   "outputs": [
    {
     "data": {
      "text/plain": [
       "array([[1.+0.j, 0.+0.j, 0.+0.j, 0.+0.j, 0.+0.j, 0.+0.j, 0.+0.j, 0.+0.j],\n",
       "       [0.+0.j, 1.+0.j, 0.+0.j, 0.+0.j, 0.+0.j, 0.+0.j, 0.+0.j, 0.+0.j],\n",
       "       [0.+0.j, 0.+0.j, 1.+0.j, 0.+0.j, 0.+0.j, 0.+0.j, 0.+0.j, 0.+0.j],\n",
       "       [0.+0.j, 0.+0.j, 0.+0.j, 0.+0.j, 0.+0.j, 0.+0.j, 0.+0.j, 1.-0.j],\n",
       "       [0.+0.j, 0.+0.j, 0.+0.j, 0.+0.j, 1.-0.j, 0.+0.j, 0.+0.j, 0.+0.j],\n",
       "       [0.+0.j, 0.+0.j, 0.+0.j, 0.+0.j, 0.+0.j, 1.-0.j, 0.+0.j, 0.+0.j],\n",
       "       [0.+0.j, 0.+0.j, 0.+0.j, 0.+0.j, 0.+0.j, 0.+0.j, 1.-0.j, 0.+0.j],\n",
       "       [0.+0.j, 0.+0.j, 0.+0.j, 1.+0.j, 0.+0.j, 0.+0.j, 0.+0.j, 0.+0.j]])"
      ]
     },
     "execution_count": 29,
     "metadata": {},
     "output_type": "execute_result"
    }
   ],
   "source": [
    "job = backend.run(transpile(qc, backend))\n",
    "job.result().get_unitary(qc, decimals=3)"
   ]
  },
  {
   "cell_type": "code",
   "execution_count": 30,
   "id": "39f75040",
   "metadata": {},
   "outputs": [
    {
     "data": {
      "text/html": [
       "<pre style=\"word-wrap: normal;white-space: pre;background: #fff0;line-height: 1.1;font-family: &quot;Courier New&quot;,Courier,monospace\">          \n",
       "q57_0: ─■─\n",
       "        │ \n",
       "q57_1: ─X─\n",
       "        │ \n",
       "q57_2: ─X─\n",
       "          </pre>"
      ],
      "text/plain": [
       "          \n",
       "q57_0: ─■─\n",
       "        │ \n",
       "q57_1: ─X─\n",
       "        │ \n",
       "q57_2: ─X─\n",
       "          "
      ]
     },
     "execution_count": 30,
     "metadata": {},
     "output_type": "execute_result"
    }
   ],
   "source": [
    "#Controlled swap gate\n",
    "#The Fredkin gate, or the controlled swap gate, exchanges the second and third qubits if the first qubit (LSB) is |1⟩:\n",
    "qc = QuantumCircuit(q)\n",
    "qc.cswap(q[0], q[1], q[2])\n",
    "qc.draw()"
   ]
  },
  {
   "cell_type": "code",
   "execution_count": 31,
   "id": "4afd0efb",
   "metadata": {},
   "outputs": [
    {
     "data": {
      "text/plain": [
       "array([[1.+0.j, 0.+0.j, 0.+0.j, 0.+0.j, 0.+0.j, 0.+0.j, 0.+0.j, 0.+0.j],\n",
       "       [0.+0.j, 1.+0.j, 0.+0.j, 0.+0.j, 0.+0.j, 0.+0.j, 0.+0.j, 0.+0.j],\n",
       "       [0.+0.j, 0.+0.j, 1.+0.j, 0.+0.j, 0.+0.j, 0.+0.j, 0.+0.j, 0.+0.j],\n",
       "       [0.+0.j, 0.+0.j, 0.+0.j, 0.+0.j, 0.+0.j, 1.-0.j, 0.+0.j, 0.+0.j],\n",
       "       [0.+0.j, 0.+0.j, 0.+0.j, 0.+0.j, 1.-0.j, 0.+0.j, 0.+0.j, 0.+0.j],\n",
       "       [0.+0.j, 0.+0.j, 0.+0.j, 1.+0.j, 0.+0.j, 0.+0.j, 0.+0.j, 0.+0.j],\n",
       "       [0.+0.j, 0.+0.j, 0.+0.j, 0.+0.j, 0.+0.j, 0.+0.j, 1.-0.j, 0.+0.j],\n",
       "       [0.+0.j, 0.+0.j, 0.+0.j, 0.+0.j, 0.+0.j, 0.+0.j, 0.+0.j, 1.-0.j]])"
      ]
     },
     "execution_count": 31,
     "metadata": {},
     "output_type": "execute_result"
    }
   ],
   "source": [
    "job = backend.run(transpile(qc, backend))\n",
    "job.result().get_unitary(qc, decimals=3)"
   ]
  },
  {
   "cell_type": "markdown",
   "id": "4a2cd476",
   "metadata": {},
   "source": [
    "#### Measurements"
   ]
  },
  {
   "cell_type": "code",
   "execution_count": 33,
   "id": "991fd93d",
   "metadata": {},
   "outputs": [],
   "source": [
    "# non-unitary operations. These include measurements, reset of qubits, and classical conditional operations.\n",
    "q = QuantumRegister(1)\n",
    "c = ClassicalRegister(1)"
   ]
  },
  {
   "cell_type": "code",
   "execution_count": 34,
   "id": "82580693",
   "metadata": {},
   "outputs": [
    {
     "data": {
      "text/html": [
       "<pre style=\"word-wrap: normal;white-space: pre;background: #fff0;line-height: 1.1;font-family: &quot;Courier New&quot;,Courier,monospace\">      ┌─┐\n",
       " q76: ┤M├\n",
       "      └╥┘\n",
       "c0: 1/═╩═\n",
       "       0 </pre>"
      ],
      "text/plain": [
       "      ┌─┐\n",
       " q76: ┤M├\n",
       "      └╥┘\n",
       "c0: 1/═╩═\n",
       "       0 "
      ]
     },
     "execution_count": 34,
     "metadata": {},
     "output_type": "execute_result"
    }
   ],
   "source": [
    "#We don’t have access to all the information when we make a measurement in a quantum computer. \n",
    "#The quantum state is projected onto the standard basis\n",
    "qc = QuantumCircuit(q, c)\n",
    "qc.measure(q, c)\n",
    "qc.draw()"
   ]
  },
  {
   "cell_type": "code",
   "execution_count": 39,
   "id": "9794ef3f",
   "metadata": {},
   "outputs": [
    {
     "data": {
      "text/plain": [
       "{'0': 499, '1': 525}"
      ]
     },
     "execution_count": 39,
     "metadata": {},
     "output_type": "execute_result"
    }
   ],
   "source": [
    "backend = BasicAer.get_backend('qasm_simulator')\n",
    "job = backend.run(transpile(qc, backend))\n",
    "job.result().get_counts(qc) #Prediction is 100 percent of the time the register returns to 0"
   ]
  },
  {
   "cell_type": "code",
   "execution_count": 37,
   "id": "63f76632",
   "metadata": {},
   "outputs": [
    {
     "data": {
      "text/html": [
       "<pre style=\"word-wrap: normal;white-space: pre;background: #fff0;line-height: 1.1;font-family: &quot;Courier New&quot;,Courier,monospace\">      ┌───┐┌─┐\n",
       " q76: ┤ H ├┤M├\n",
       "      └───┘└╥┘\n",
       "c0: 1/══════╩═\n",
       "            0 </pre>"
      ],
      "text/plain": [
       "      ┌───┐┌─┐\n",
       " q76: ┤ H ├┤M├\n",
       "      └───┘└╥┘\n",
       "c0: 1/══════╩═\n",
       "            0 "
      ]
     },
     "execution_count": 37,
     "metadata": {},
     "output_type": "execute_result"
    }
   ],
   "source": [
    "qc = QuantumCircuit(q, c)\n",
    "qc.h(q)\n",
    "qc.measure(q, c)\n",
    "qc.draw()"
   ]
  },
  {
   "cell_type": "code",
   "execution_count": 41,
   "id": "6aa63504",
   "metadata": {},
   "outputs": [
    {
     "data": {
      "text/plain": [
       "{'1': 513, '0': 511}"
      ]
     },
     "execution_count": 41,
     "metadata": {},
     "output_type": "execute_result"
    }
   ],
   "source": [
    "job = backend.run(transpile(qc, backend))\n",
    "job.result().get_counts(qc) #The simulator predicts that 50 percent of the time the classical register returns 0 or 1"
   ]
  },
  {
   "cell_type": "markdown",
   "id": "bec9a7a6",
   "metadata": {},
   "source": [
    "#### Reset\n",
    "It is also possible to reset qubits to the |0⟩ state in the middle of computation."
   ]
  },
  {
   "cell_type": "code",
   "execution_count": 42,
   "id": "80b53efa",
   "metadata": {},
   "outputs": [
    {
     "data": {
      "text/html": [
       "<pre style=\"word-wrap: normal;white-space: pre;background: #fff0;line-height: 1.1;font-family: &quot;Courier New&quot;,Courier,monospace\">           ┌─┐\n",
       " q76: ─|0>─┤M├\n",
       "           └╥┘\n",
       "c0: 1/══════╩═\n",
       "            0 </pre>"
      ],
      "text/plain": [
       "           ┌─┐\n",
       " q76: ─|0>─┤M├\n",
       "           └╥┘\n",
       "c0: 1/══════╩═\n",
       "            0 "
      ]
     },
     "execution_count": 42,
     "metadata": {},
     "output_type": "execute_result"
    }
   ],
   "source": [
    "qc = QuantumCircuit(q, c)\n",
    "qc.reset(q[0])\n",
    "qc.measure(q, c)\n",
    "qc.draw()"
   ]
  },
  {
   "cell_type": "code",
   "execution_count": 43,
   "id": "1eb16edd",
   "metadata": {},
   "outputs": [
    {
     "data": {
      "text/plain": [
       "{'0': 1024}"
      ]
     },
     "execution_count": 43,
     "metadata": {},
     "output_type": "execute_result"
    }
   ],
   "source": [
    "job = backend.run(transpile(qc, backend))\n",
    "job.result().get_counts(qc)"
   ]
  },
  {
   "cell_type": "code",
   "execution_count": 44,
   "id": "e93ef2fd",
   "metadata": {},
   "outputs": [
    {
     "data": {
      "text/html": [
       "<pre style=\"word-wrap: normal;white-space: pre;background: #fff0;line-height: 1.1;font-family: &quot;Courier New&quot;,Courier,monospace\">      ┌───┐     ┌─┐\n",
       " q76: ┤ H ├─|0>─┤M├\n",
       "      └───┘     └╥┘\n",
       "c0: 1/═══════════╩═\n",
       "                 0 </pre>"
      ],
      "text/plain": [
       "      ┌───┐     ┌─┐\n",
       " q76: ┤ H ├─|0>─┤M├\n",
       "      └───┘     └╥┘\n",
       "c0: 1/═══════════╩═\n",
       "                 0 "
      ]
     },
     "execution_count": 44,
     "metadata": {},
     "output_type": "execute_result"
    }
   ],
   "source": [
    "qc = QuantumCircuit(q, c)\n",
    "qc.h(q)\n",
    "qc.reset(q[0])\n",
    "qc.measure(q, c)\n",
    "qc.draw()"
   ]
  },
  {
   "cell_type": "code",
   "execution_count": 45,
   "id": "62fb5cf5",
   "metadata": {},
   "outputs": [
    {
     "data": {
      "text/plain": [
       "{'0': 1024}"
      ]
     },
     "execution_count": 45,
     "metadata": {},
     "output_type": "execute_result"
    }
   ],
   "source": [
    "job = backend.run(transpile(qc, backend))\n",
    "job.result().get_counts(qc) #the prediction is 100 percent in the 0 state"
   ]
  },
  {
   "cell_type": "markdown",
   "id": "ce7f03ba",
   "metadata": {},
   "source": [
    "#### Reset\n",
    "It is also possible to do operations conditioned on the state of the classical register"
   ]
  },
  {
   "cell_type": "code",
   "execution_count": 46,
   "id": "00228c19",
   "metadata": {},
   "outputs": [
    {
     "data": {
      "text/plain": [
       "<qiskit.circuit.instructionset.InstructionSet at 0x1e448a15140>"
      ]
     },
     "execution_count": 46,
     "metadata": {},
     "output_type": "execute_result"
    }
   ],
   "source": [
    "qc = QuantumCircuit(q, c)\n",
    "qc.x(q[0]).c_if(c, 0)"
   ]
  },
  {
   "cell_type": "code",
   "execution_count": 47,
   "id": "077944b8",
   "metadata": {},
   "outputs": [
    {
     "data": {
      "text/html": [
       "<pre style=\"word-wrap: normal;white-space: pre;background: #fff0;line-height: 1.1;font-family: &quot;Courier New&quot;,Courier,monospace\">       ┌───┐ ┌─┐\n",
       " q76: ─┤ X ├─┤M├\n",
       "       └─╥─┘ └╥┘\n",
       "      ┌──╨──┐ ║ \n",
       "c0: 1/╡ 0x0 ╞═╩═\n",
       "      └─────┘ 0 </pre>"
      ],
      "text/plain": [
       "       ┌───┐ ┌─┐\n",
       " q76: ─┤ X ├─┤M├\n",
       "       └─╥─┘ └╥┘\n",
       "      ┌──╨──┐ ║ \n",
       "c0: 1/╡ 0x0 ╞═╩═\n",
       "      └─────┘ 0 "
      ]
     },
     "execution_count": 47,
     "metadata": {},
     "output_type": "execute_result"
    }
   ],
   "source": [
    "qc.measure(q,c)\n",
    "qc.draw()"
   ]
  },
  {
   "cell_type": "code",
   "execution_count": 48,
   "id": "a3e2c622",
   "metadata": {},
   "outputs": [
    {
     "data": {
      "text/plain": [
       "{'1': 1024}"
      ]
     },
     "execution_count": 48,
     "metadata": {},
     "output_type": "execute_result"
    }
   ],
   "source": [
    "#classical takes the value 0 so the qubit state is always flipped.\n",
    "job = backend.run(transpile(qc, backend))\n",
    "job.result().get_counts(qc)"
   ]
  },
  {
   "cell_type": "code",
   "execution_count": 49,
   "id": "742c1452",
   "metadata": {},
   "outputs": [
    {
     "data": {
      "text/plain": [
       "<qiskit.circuit.instructionset.InstructionSet at 0x1e448ef7bc0>"
      ]
     },
     "execution_count": 49,
     "metadata": {},
     "output_type": "execute_result"
    }
   ],
   "source": [
    "qc = QuantumCircuit(q, c)\n",
    "qc.h(q)\n",
    "qc.measure(q,c)"
   ]
  },
  {
   "cell_type": "code",
   "execution_count": 50,
   "id": "498f49e8",
   "metadata": {},
   "outputs": [
    {
     "data": {
      "text/html": [
       "<pre style=\"word-wrap: normal;white-space: pre;background: #fff0;line-height: 1.1;font-family: &quot;Courier New&quot;,Courier,monospace\">      ┌───┐┌─┐ ┌───┐ ┌─┐\n",
       " q76: ┤ H ├┤M├─┤ X ├─┤M├\n",
       "      └───┘└╥┘ └─╥─┘ └╥┘\n",
       "            ║ ┌──╨──┐ ║ \n",
       "c0: 1/══════╩═╡ 0x0 ╞═╩═\n",
       "            0 └─────┘ 0 </pre>"
      ],
      "text/plain": [
       "      ┌───┐┌─┐ ┌───┐ ┌─┐\n",
       " q76: ┤ H ├┤M├─┤ X ├─┤M├\n",
       "      └───┘└╥┘ └─╥─┘ └╥┘\n",
       "            ║ ┌──╨──┐ ║ \n",
       "c0: 1/══════╩═╡ 0x0 ╞═╩═\n",
       "            0 └─────┘ 0 "
      ]
     },
     "execution_count": 50,
     "metadata": {},
     "output_type": "execute_result"
    }
   ],
   "source": [
    "qc.x(q[0]).c_if(c, 0)\n",
    "qc.measure(q,c)\n",
    "qc.draw()"
   ]
  },
  {
   "cell_type": "code",
   "execution_count": 51,
   "id": "aecbc337",
   "metadata": {},
   "outputs": [
    {
     "data": {
      "text/plain": [
       "{'1': 1024}"
      ]
     },
     "execution_count": 51,
     "metadata": {},
     "output_type": "execute_result"
    }
   ],
   "source": [
    "job = backend.run(transpile(qc, backend))\n",
    "job.result().get_counts(qc)"
   ]
  },
  {
   "cell_type": "markdown",
   "id": "b1bb5f13",
   "metadata": {},
   "source": [
    "#### Arbitrary initialization\n",
    "An arbitrary state for n qubits may be specified by a vector of 2n amplitudes, where the sum of amplitude-norms-squared equals 1.\n"
   ]
  },
  {
   "cell_type": "code",
   "execution_count": 52,
   "id": "437f3386",
   "metadata": {},
   "outputs": [
    {
     "data": {
      "text/html": [
       "<pre style=\"word-wrap: normal;white-space: pre;background: #fff0;line-height: 1.1;font-family: &quot;Courier New&quot;,Courier,monospace\">        ┌───────────────────────────────────────────────────────────────────┐\n",
       "q155_0: ┤0                                                                  ├\n",
       "        │                                                                   │\n",
       "q155_1: ┤1 Initialize(0.25j,0.35355,0.25+0.25j,0,0,0.35355+0.70711j,0.25,0) ├\n",
       "        │                                                                   │\n",
       "q155_2: ┤2                                                                  ├\n",
       "        └───────────────────────────────────────────────────────────────────┘</pre>"
      ],
      "text/plain": [
       "        ┌───────────────────────────────────────────────────────────────────┐\n",
       "q155_0: ┤0                                                                  ├\n",
       "        │                                                                   │\n",
       "q155_1: ┤1 Initialize(0.25j,0.35355,0.25+0.25j,0,0,0.35355+0.70711j,0.25,0) ├\n",
       "        │                                                                   │\n",
       "q155_2: ┤2                                                                  ├\n",
       "        └───────────────────────────────────────────────────────────────────┘"
      ]
     },
     "execution_count": 52,
     "metadata": {},
     "output_type": "execute_result"
    }
   ],
   "source": [
    "# Initializing a three-qubit quantum state\n",
    "import math\n",
    "desired_vector = [\n",
    "    1 / math.sqrt(16) * complex(0, 1),\n",
    "    1 / math.sqrt(8) * complex(1, 0),\n",
    "    1 / math.sqrt(16) * complex(1, 1),\n",
    "    0,\n",
    "    0,\n",
    "    1 / math.sqrt(8) * complex(1, 2),\n",
    "    1 / math.sqrt(16) * complex(1, 0),\n",
    "    0]\n",
    "\n",
    "\n",
    "q = QuantumRegister(3)\n",
    "\n",
    "qc = QuantumCircuit(q)\n",
    "\n",
    "qc.initialize(desired_vector, [q[0],q[1],q[2]])\n",
    "qc.draw()"
   ]
  },
  {
   "cell_type": "code",
   "execution_count": 53,
   "id": "87f49ac0",
   "metadata": {},
   "outputs": [
    {
     "data": {
      "text/plain": [
       "array([9.02056208e-17+2.50000000e-01j, 3.53553391e-01+1.31838984e-16j,\n",
       "       2.50000000e-01+2.50000000e-01j, 0.00000000e+00+0.00000000e+00j,\n",
       "       0.00000000e+00+0.00000000e+00j, 3.53553391e-01+7.07106781e-01j,\n",
       "       2.50000000e-01+1.38777878e-17j, 0.00000000e+00+0.00000000e+00j])"
      ]
     },
     "execution_count": 53,
     "metadata": {},
     "output_type": "execute_result"
    }
   ],
   "source": [
    "backend = BasicAer.get_backend('statevector_simulator')\n",
    "job = backend.run(transpile(qc, backend))\n",
    "qc_state = job.result().get_statevector(qc)\n",
    "qc_state"
   ]
  },
  {
   "cell_type": "code",
   "execution_count": 54,
   "id": "7705f749",
   "metadata": {},
   "outputs": [
    {
     "data": {
      "text/plain": [
       "1.0000000000000004"
      ]
     },
     "execution_count": 54,
     "metadata": {},
     "output_type": "execute_result"
    }
   ],
   "source": [
    "#Fidelity is useful to check whether two states are the same or not\n",
    "state_fidelity(desired_vector,qc_state)"
   ]
  },
  {
   "cell_type": "markdown",
   "id": "9a6749a6",
   "metadata": {},
   "source": [
    "## Deutsch-Jozsa Algorithm"
   ]
  },
  {
   "cell_type": "code",
   "execution_count": 13,
   "id": "f69bf9d3",
   "metadata": {},
   "outputs": [],
   "source": [
    "# implement Deutch-Jozsa algorithm as a 3 bit function\n",
    "# initialization\n",
    "import numpy as np\n",
    "\n",
    "# importing Qiskit\n",
    "from qiskit import IBMQ, Aer\n",
    "from qiskit.providers.ibmq import least_busy\n",
    "from qiskit import QuantumCircuit, assemble, transpile\n",
    "\n",
    "# import basic plot tools\n",
    "from qiskit.visualization import plot_histogram"
   ]
  },
  {
   "cell_type": "code",
   "execution_count": 3,
   "id": "49ea90d2",
   "metadata": {},
   "outputs": [],
   "source": [
    "# set the size to 3\n",
    "n = 3"
   ]
  },
  {
   "cell_type": "markdown",
   "id": "230f0626",
   "metadata": {},
   "source": [
    "###### Constant Oracle"
   ]
  },
  {
   "cell_type": "code",
   "execution_count": 14,
   "id": "507bfd46",
   "metadata": {},
   "outputs": [
    {
     "data": {
      "text/html": [
       "<pre style=\"word-wrap: normal;white-space: pre;background: #fff0;line-height: 1.1;font-family: &quot;Courier New&quot;,Courier,monospace\">     \n",
       "q_0: \n",
       "     \n",
       "q_1: \n",
       "     \n",
       "q_2: \n",
       "     \n",
       "q_3: \n",
       "     </pre>"
      ],
      "text/plain": [
       "     \n",
       "q_0: \n",
       "     \n",
       "q_1: \n",
       "     \n",
       "q_2: \n",
       "     \n",
       "q_3: \n",
       "     "
      ]
     },
     "execution_count": 14,
     "metadata": {},
     "output_type": "execute_result"
    }
   ],
   "source": [
    "#Create a constant oracle, randomly select the output to 0 or 1\n",
    "n = 3\n",
    "\n",
    "const_oracle = QuantumCircuit(n+1)\n",
    "\n",
    "output = np.random.randint(2)\n",
    "if output == 1:\n",
    "    const_oracle.x(n)\n",
    "\n",
    "const_oracle.draw()"
   ]
  },
  {
   "cell_type": "markdown",
   "id": "efb81717",
   "metadata": {},
   "source": [
    "#### Balanced Oracle"
   ]
  },
  {
   "cell_type": "code",
   "execution_count": 5,
   "id": "3b85bf00",
   "metadata": {},
   "outputs": [],
   "source": [
    "#create a balanced oracle\n",
    "balanced_oracle = QuantumCircuit(n+1)"
   ]
  },
  {
   "cell_type": "code",
   "execution_count": 15,
   "id": "cacf1f2a",
   "metadata": {},
   "outputs": [],
   "source": [
    "b_str = \"101\"\n",
    "#Use this string as a key to place on X-gates"
   ]
  },
  {
   "cell_type": "code",
   "execution_count": 8,
   "id": "5ee36066",
   "metadata": {},
   "outputs": [],
   "source": [
    "balanced_oracle = QuantumCircuit(n+1)\n",
    "b_str = \"101\""
   ]
  },
  {
   "cell_type": "code",
   "execution_count": 9,
   "id": "e6bf7b66",
   "metadata": {},
   "outputs": [
    {
     "data": {
      "text/html": [
       "<pre style=\"word-wrap: normal;white-space: pre;background: #fff0;line-height: 1.1;font-family: &quot;Courier New&quot;,Courier,monospace\">     ┌───┐\n",
       "q_0: ┤ X ├\n",
       "     └───┘\n",
       "q_1: ─────\n",
       "     ┌───┐\n",
       "q_2: ┤ X ├\n",
       "     └───┘\n",
       "q_3: ─────\n",
       "          </pre>"
      ],
      "text/plain": [
       "     ┌───┐\n",
       "q_0: ┤ X ├\n",
       "     └───┘\n",
       "q_1: ─────\n",
       "     ┌───┐\n",
       "q_2: ┤ X ├\n",
       "     └───┘\n",
       "q_3: ─────\n",
       "          "
      ]
     },
     "execution_count": 9,
     "metadata": {},
     "output_type": "execute_result"
    }
   ],
   "source": [
    "# Place X-gates\n",
    "for qubit in range(len(b_str)):\n",
    "    if b_str[qubit] == '1':\n",
    "        balanced_oracle.x(qubit)\n",
    "balanced_oracle.draw()"
   ]
  },
  {
   "cell_type": "code",
   "execution_count": 16,
   "id": "f6fca455",
   "metadata": {},
   "outputs": [],
   "source": [
    "#controlled NOT gates\n",
    "balanced_oracle = QuantumCircuit(n+1)\n",
    "b_str = \"101\"\n",
    "\n",
    "# Place X-gates\n",
    "for qubit in range(len(b_str)):\n",
    "    if b_str[qubit] == '1':\n",
    "        balanced_oracle.x(qubit)\n"
   ]
  },
  {
   "cell_type": "code",
   "execution_count": 11,
   "id": "3cefc8af",
   "metadata": {},
   "outputs": [],
   "source": [
    "# Use barrier as divider\n",
    "balanced_oracle.barrier()\n",
    "\n",
    "# Controlled-NOT gates\n",
    "for qubit in range(n):\n",
    "    balanced_oracle.cx(qubit, n)"
   ]
  },
  {
   "cell_type": "code",
   "execution_count": 12,
   "id": "9454a9e7",
   "metadata": {},
   "outputs": [
    {
     "data": {
      "text/html": [
       "<pre style=\"word-wrap: normal;white-space: pre;background: #fff0;line-height: 1.1;font-family: &quot;Courier New&quot;,Courier,monospace\">     ┌───┐ ░                 ░ \n",
       "q_0: ┤ X ├─░───■─────────────░─\n",
       "     └───┘ ░   │             ░ \n",
       "q_1: ──────░───┼────■────────░─\n",
       "     ┌───┐ ░   │    │        ░ \n",
       "q_2: ┤ X ├─░───┼────┼────■───░─\n",
       "     └───┘ ░ ┌─┴─┐┌─┴─┐┌─┴─┐ ░ \n",
       "q_3: ──────░─┤ X ├┤ X ├┤ X ├─░─\n",
       "           ░ └───┘└───┘└───┘ ░ </pre>"
      ],
      "text/plain": [
       "     ┌───┐ ░                 ░ \n",
       "q_0: ┤ X ├─░───■─────────────░─\n",
       "     └───┘ ░   │             ░ \n",
       "q_1: ──────░───┼────■────────░─\n",
       "     ┌───┐ ░   │    │        ░ \n",
       "q_2: ┤ X ├─░───┼────┼────■───░─\n",
       "     └───┘ ░ ┌─┴─┐┌─┴─┐┌─┴─┐ ░ \n",
       "q_3: ──────░─┤ X ├┤ X ├┤ X ├─░─\n",
       "           ░ └───┘└───┘└───┘ ░ "
      ]
     },
     "execution_count": 12,
     "metadata": {},
     "output_type": "execute_result"
    }
   ],
   "source": [
    "balanced_oracle.barrier()\n",
    "balanced_oracle.draw()\n"
   ]
  },
  {
   "cell_type": "code",
   "execution_count": 17,
   "id": "373707df",
   "metadata": {},
   "outputs": [
    {
     "data": {
      "text/html": [
       "<pre style=\"word-wrap: normal;white-space: pre;background: #fff0;line-height: 1.1;font-family: &quot;Courier New&quot;,Courier,monospace\">     ┌───┐ ░                 ░ ┌───┐\n",
       "q_0: ┤ X ├─░───■─────────────░─┤ X ├\n",
       "     └───┘ ░   │             ░ └───┘\n",
       "q_1: ──────░───┼────■────────░──────\n",
       "     ┌───┐ ░   │    │        ░ ┌───┐\n",
       "q_2: ┤ X ├─░───┼────┼────■───░─┤ X ├\n",
       "     └───┘ ░ ┌─┴─┐┌─┴─┐┌─┴─┐ ░ └───┘\n",
       "q_3: ──────░─┤ X ├┤ X ├┤ X ├─░──────\n",
       "           ░ └───┘└───┘└───┘ ░      </pre>"
      ],
      "text/plain": [
       "     ┌───┐ ░                 ░ ┌───┐\n",
       "q_0: ┤ X ├─░───■─────────────░─┤ X ├\n",
       "     └───┘ ░   │             ░ └───┘\n",
       "q_1: ──────░───┼────■────────░──────\n",
       "     ┌───┐ ░   │    │        ░ ┌───┐\n",
       "q_2: ┤ X ├─░───┼────┼────■───░─┤ X ├\n",
       "     └───┘ ░ ┌─┴─┐┌─┴─┐┌─┴─┐ ░ └───┘\n",
       "q_3: ──────░─┤ X ├┤ X ├┤ X ├─░──────\n",
       "           ░ └───┘└───┘└───┘ ░      "
      ]
     },
     "execution_count": 17,
     "metadata": {},
     "output_type": "execute_result"
    }
   ],
   "source": [
    "# repeat the code and wrap the control in x-gates\n",
    "balanced_oracle = QuantumCircuit(n+1)\n",
    "b_str = \"101\"\n",
    "\n",
    "# Place X-gates\n",
    "for qubit in range(len(b_str)):\n",
    "    if b_str[qubit] == '1':\n",
    "        balanced_oracle.x(qubit)\n",
    "\n",
    "# Use barrier as divider\n",
    "balanced_oracle.barrier()\n",
    "\n",
    "# Controlled-NOT gates\n",
    "for qubit in range(n):\n",
    "    balanced_oracle.cx(qubit, n)\n",
    "\n",
    "balanced_oracle.barrier()\n",
    "\n",
    "# Place X-gates\n",
    "for qubit in range(len(b_str)):\n",
    "    if b_str[qubit] == '1':\n",
    "        balanced_oracle.x(qubit)\n",
    "\n",
    "# Show oracle\n",
    "balanced_oracle.draw()\n",
    "# A balnced oracle is created"
   ]
  },
  {
   "cell_type": "code",
   "execution_count": null,
   "id": "83d1d7b5",
   "metadata": {},
   "outputs": [],
   "source": [
    "4.3 The Full Algorithm \n"
   ]
  }
 ],
 "metadata": {
  "kernelspec": {
   "display_name": "Python 3",
   "language": "python",
   "name": "python3"
  },
  "language_info": {
   "codemirror_mode": {
    "name": "ipython",
    "version": 3
   },
   "file_extension": ".py",
   "mimetype": "text/x-python",
   "name": "python",
   "nbconvert_exporter": "python",
   "pygments_lexer": "ipython3",
   "version": "3.8.8"
  }
 },
 "nbformat": 4,
 "nbformat_minor": 5
}
